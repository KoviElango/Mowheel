{
  "nbformat": 4,
  "nbformat_minor": 0,
  "metadata": {
    "colab": {
      "provenance": []
    },
    "kernelspec": {
      "name": "python3",
      "display_name": "Python 3"
    },
    "language_info": {
      "name": "python"
    }
  },
  "cells": [
    {
      "cell_type": "code",
      "execution_count": 9,
      "metadata": {
        "colab": {
          "base_uri": "https://localhost:8080/"
        },
        "id": "npYvzVf_FO9r",
        "outputId": "cccf36cc-e7b8-4cb9-de22-951c714378b4"
      },
      "outputs": [
        {
          "output_type": "stream",
          "name": "stderr",
          "text": [
            "<ipython-input-9-5010844ce90b>:4: DtypeWarning: Columns (4) have mixed types. Specify dtype option on import or set low_memory=False.\n",
            "  df1 = pd.read_csv('title.basics.tsv', sep='\\t')\n"
          ]
        }
      ],
      "source": [
        "import pandas as pd\n",
        "\n",
        "# Load the first TSV file\n",
        "df1 = pd.read_csv('title.basics.tsv', sep='\\t')\n",
        "\n",
        "# Load the second TSV file\n",
        "df2 = pd.read_csv('title.ratings.tsv', sep='\\t')\n",
        "\n",
        "\n",
        "\n"
      ]
    },
    {
      "cell_type": "code",
      "source": [
        "df1.columns"
      ],
      "metadata": {
        "colab": {
          "base_uri": "https://localhost:8080/"
        },
        "id": "ac6pZf5BF2PF",
        "outputId": "e38b8f33-2b7f-40ca-dda4-ca19b366479c"
      },
      "execution_count": 10,
      "outputs": [
        {
          "output_type": "execute_result",
          "data": {
            "text/plain": [
              "Index(['tconst', 'titleType', 'primaryTitle', 'originalTitle', 'isAdult',\n",
              "       'startYear', 'endYear', 'runtimeMinutes', 'genres'],\n",
              "      dtype='object')"
            ]
          },
          "metadata": {},
          "execution_count": 10
        }
      ]
    },
    {
      "cell_type": "code",
      "source": [
        "df1[df1['tconst'] == 'tt0050083']"
      ],
      "metadata": {
        "colab": {
          "base_uri": "https://localhost:8080/",
          "height": 80
        },
        "id": "T-jnzr4NPyb4",
        "outputId": "e230bbee-1c44-4cb7-9d39-969c041944eb"
      },
      "execution_count": 21,
      "outputs": [
        {
          "output_type": "execute_result",
          "data": {
            "text/plain": [
              "          tconst titleType  primaryTitle originalTitle isAdult startYear  \\\n",
              "49179  tt0050083     movie  12 Angry Men  12 Angry Men       0      1957   \n",
              "\n",
              "      endYear runtimeMinutes       genres  \n",
              "49179      \\N             96  Crime,Drama  "
            ],
            "text/html": [
              "\n",
              "  <div id=\"df-6fd9e603-971d-4334-92a5-5aa517b8ddaf\" class=\"colab-df-container\">\n",
              "    <div>\n",
              "<style scoped>\n",
              "    .dataframe tbody tr th:only-of-type {\n",
              "        vertical-align: middle;\n",
              "    }\n",
              "\n",
              "    .dataframe tbody tr th {\n",
              "        vertical-align: top;\n",
              "    }\n",
              "\n",
              "    .dataframe thead th {\n",
              "        text-align: right;\n",
              "    }\n",
              "</style>\n",
              "<table border=\"1\" class=\"dataframe\">\n",
              "  <thead>\n",
              "    <tr style=\"text-align: right;\">\n",
              "      <th></th>\n",
              "      <th>tconst</th>\n",
              "      <th>titleType</th>\n",
              "      <th>primaryTitle</th>\n",
              "      <th>originalTitle</th>\n",
              "      <th>isAdult</th>\n",
              "      <th>startYear</th>\n",
              "      <th>endYear</th>\n",
              "      <th>runtimeMinutes</th>\n",
              "      <th>genres</th>\n",
              "    </tr>\n",
              "  </thead>\n",
              "  <tbody>\n",
              "    <tr>\n",
              "      <th>49179</th>\n",
              "      <td>tt0050083</td>\n",
              "      <td>movie</td>\n",
              "      <td>12 Angry Men</td>\n",
              "      <td>12 Angry Men</td>\n",
              "      <td>0</td>\n",
              "      <td>1957</td>\n",
              "      <td>\\N</td>\n",
              "      <td>96</td>\n",
              "      <td>Crime,Drama</td>\n",
              "    </tr>\n",
              "  </tbody>\n",
              "</table>\n",
              "</div>\n",
              "    <div class=\"colab-df-buttons\">\n",
              "\n",
              "  <div class=\"colab-df-container\">\n",
              "    <button class=\"colab-df-convert\" onclick=\"convertToInteractive('df-6fd9e603-971d-4334-92a5-5aa517b8ddaf')\"\n",
              "            title=\"Convert this dataframe to an interactive table.\"\n",
              "            style=\"display:none;\">\n",
              "\n",
              "  <svg xmlns=\"http://www.w3.org/2000/svg\" height=\"24px\" viewBox=\"0 -960 960 960\">\n",
              "    <path d=\"M120-120v-720h720v720H120Zm60-500h600v-160H180v160Zm220 220h160v-160H400v160Zm0 220h160v-160H400v160ZM180-400h160v-160H180v160Zm440 0h160v-160H620v160ZM180-180h160v-160H180v160Zm440 0h160v-160H620v160Z\"/>\n",
              "  </svg>\n",
              "    </button>\n",
              "\n",
              "  <style>\n",
              "    .colab-df-container {\n",
              "      display:flex;\n",
              "      gap: 12px;\n",
              "    }\n",
              "\n",
              "    .colab-df-convert {\n",
              "      background-color: #E8F0FE;\n",
              "      border: none;\n",
              "      border-radius: 50%;\n",
              "      cursor: pointer;\n",
              "      display: none;\n",
              "      fill: #1967D2;\n",
              "      height: 32px;\n",
              "      padding: 0 0 0 0;\n",
              "      width: 32px;\n",
              "    }\n",
              "\n",
              "    .colab-df-convert:hover {\n",
              "      background-color: #E2EBFA;\n",
              "      box-shadow: 0px 1px 2px rgba(60, 64, 67, 0.3), 0px 1px 3px 1px rgba(60, 64, 67, 0.15);\n",
              "      fill: #174EA6;\n",
              "    }\n",
              "\n",
              "    .colab-df-buttons div {\n",
              "      margin-bottom: 4px;\n",
              "    }\n",
              "\n",
              "    [theme=dark] .colab-df-convert {\n",
              "      background-color: #3B4455;\n",
              "      fill: #D2E3FC;\n",
              "    }\n",
              "\n",
              "    [theme=dark] .colab-df-convert:hover {\n",
              "      background-color: #434B5C;\n",
              "      box-shadow: 0px 1px 3px 1px rgba(0, 0, 0, 0.15);\n",
              "      filter: drop-shadow(0px 1px 2px rgba(0, 0, 0, 0.3));\n",
              "      fill: #FFFFFF;\n",
              "    }\n",
              "  </style>\n",
              "\n",
              "    <script>\n",
              "      const buttonEl =\n",
              "        document.querySelector('#df-6fd9e603-971d-4334-92a5-5aa517b8ddaf button.colab-df-convert');\n",
              "      buttonEl.style.display =\n",
              "        google.colab.kernel.accessAllowed ? 'block' : 'none';\n",
              "\n",
              "      async function convertToInteractive(key) {\n",
              "        const element = document.querySelector('#df-6fd9e603-971d-4334-92a5-5aa517b8ddaf');\n",
              "        const dataTable =\n",
              "          await google.colab.kernel.invokeFunction('convertToInteractive',\n",
              "                                                    [key], {});\n",
              "        if (!dataTable) return;\n",
              "\n",
              "        const docLinkHtml = 'Like what you see? Visit the ' +\n",
              "          '<a target=\"_blank\" href=https://colab.research.google.com/notebooks/data_table.ipynb>data table notebook</a>'\n",
              "          + ' to learn more about interactive tables.';\n",
              "        element.innerHTML = '';\n",
              "        dataTable['output_type'] = 'display_data';\n",
              "        await google.colab.output.renderOutput(dataTable, element);\n",
              "        const docLink = document.createElement('div');\n",
              "        docLink.innerHTML = docLinkHtml;\n",
              "        element.appendChild(docLink);\n",
              "      }\n",
              "    </script>\n",
              "  </div>\n",
              "\n",
              "\n",
              "    </div>\n",
              "  </div>\n"
            ],
            "application/vnd.google.colaboratory.intrinsic+json": {
              "type": "dataframe",
              "repr_error": "0"
            }
          },
          "metadata": {},
          "execution_count": 21
        }
      ]
    },
    {
      "cell_type": "code",
      "source": [
        "df2.columns"
      ],
      "metadata": {
        "colab": {
          "base_uri": "https://localhost:8080/"
        },
        "id": "rVFVWCn2F42a",
        "outputId": "a9c088c4-97a3-45b5-9f9e-754e1d7ae02f"
      },
      "execution_count": 11,
      "outputs": [
        {
          "output_type": "execute_result",
          "data": {
            "text/plain": [
              "Index(['tconst', 'averageRating', 'numVotes'], dtype='object')"
            ]
          },
          "metadata": {},
          "execution_count": 11
        }
      ]
    },
    {
      "cell_type": "code",
      "source": [
        "df2[df2['tconst'] == 'tt0050083']"
      ],
      "metadata": {
        "colab": {
          "base_uri": "https://localhost:8080/",
          "height": 80
        },
        "id": "qxAIOpZ1QCvW",
        "outputId": "e94ab6a6-c9ab-42e4-bd1d-c4a0424bf5f6"
      },
      "execution_count": 22,
      "outputs": [
        {
          "output_type": "execute_result",
          "data": {
            "text/plain": [
              "          tconst  averageRating  numVotes\n",
              "31100  tt0050083            9.0    872287"
            ],
            "text/html": [
              "\n",
              "  <div id=\"df-2f389922-d7ad-4ac7-a010-00cd00672c23\" class=\"colab-df-container\">\n",
              "    <div>\n",
              "<style scoped>\n",
              "    .dataframe tbody tr th:only-of-type {\n",
              "        vertical-align: middle;\n",
              "    }\n",
              "\n",
              "    .dataframe tbody tr th {\n",
              "        vertical-align: top;\n",
              "    }\n",
              "\n",
              "    .dataframe thead th {\n",
              "        text-align: right;\n",
              "    }\n",
              "</style>\n",
              "<table border=\"1\" class=\"dataframe\">\n",
              "  <thead>\n",
              "    <tr style=\"text-align: right;\">\n",
              "      <th></th>\n",
              "      <th>tconst</th>\n",
              "      <th>averageRating</th>\n",
              "      <th>numVotes</th>\n",
              "    </tr>\n",
              "  </thead>\n",
              "  <tbody>\n",
              "    <tr>\n",
              "      <th>31100</th>\n",
              "      <td>tt0050083</td>\n",
              "      <td>9.0</td>\n",
              "      <td>872287</td>\n",
              "    </tr>\n",
              "  </tbody>\n",
              "</table>\n",
              "</div>\n",
              "    <div class=\"colab-df-buttons\">\n",
              "\n",
              "  <div class=\"colab-df-container\">\n",
              "    <button class=\"colab-df-convert\" onclick=\"convertToInteractive('df-2f389922-d7ad-4ac7-a010-00cd00672c23')\"\n",
              "            title=\"Convert this dataframe to an interactive table.\"\n",
              "            style=\"display:none;\">\n",
              "\n",
              "  <svg xmlns=\"http://www.w3.org/2000/svg\" height=\"24px\" viewBox=\"0 -960 960 960\">\n",
              "    <path d=\"M120-120v-720h720v720H120Zm60-500h600v-160H180v160Zm220 220h160v-160H400v160Zm0 220h160v-160H400v160ZM180-400h160v-160H180v160Zm440 0h160v-160H620v160ZM180-180h160v-160H180v160Zm440 0h160v-160H620v160Z\"/>\n",
              "  </svg>\n",
              "    </button>\n",
              "\n",
              "  <style>\n",
              "    .colab-df-container {\n",
              "      display:flex;\n",
              "      gap: 12px;\n",
              "    }\n",
              "\n",
              "    .colab-df-convert {\n",
              "      background-color: #E8F0FE;\n",
              "      border: none;\n",
              "      border-radius: 50%;\n",
              "      cursor: pointer;\n",
              "      display: none;\n",
              "      fill: #1967D2;\n",
              "      height: 32px;\n",
              "      padding: 0 0 0 0;\n",
              "      width: 32px;\n",
              "    }\n",
              "\n",
              "    .colab-df-convert:hover {\n",
              "      background-color: #E2EBFA;\n",
              "      box-shadow: 0px 1px 2px rgba(60, 64, 67, 0.3), 0px 1px 3px 1px rgba(60, 64, 67, 0.15);\n",
              "      fill: #174EA6;\n",
              "    }\n",
              "\n",
              "    .colab-df-buttons div {\n",
              "      margin-bottom: 4px;\n",
              "    }\n",
              "\n",
              "    [theme=dark] .colab-df-convert {\n",
              "      background-color: #3B4455;\n",
              "      fill: #D2E3FC;\n",
              "    }\n",
              "\n",
              "    [theme=dark] .colab-df-convert:hover {\n",
              "      background-color: #434B5C;\n",
              "      box-shadow: 0px 1px 3px 1px rgba(0, 0, 0, 0.15);\n",
              "      filter: drop-shadow(0px 1px 2px rgba(0, 0, 0, 0.3));\n",
              "      fill: #FFFFFF;\n",
              "    }\n",
              "  </style>\n",
              "\n",
              "    <script>\n",
              "      const buttonEl =\n",
              "        document.querySelector('#df-2f389922-d7ad-4ac7-a010-00cd00672c23 button.colab-df-convert');\n",
              "      buttonEl.style.display =\n",
              "        google.colab.kernel.accessAllowed ? 'block' : 'none';\n",
              "\n",
              "      async function convertToInteractive(key) {\n",
              "        const element = document.querySelector('#df-2f389922-d7ad-4ac7-a010-00cd00672c23');\n",
              "        const dataTable =\n",
              "          await google.colab.kernel.invokeFunction('convertToInteractive',\n",
              "                                                    [key], {});\n",
              "        if (!dataTable) return;\n",
              "\n",
              "        const docLinkHtml = 'Like what you see? Visit the ' +\n",
              "          '<a target=\"_blank\" href=https://colab.research.google.com/notebooks/data_table.ipynb>data table notebook</a>'\n",
              "          + ' to learn more about interactive tables.';\n",
              "        element.innerHTML = '';\n",
              "        dataTable['output_type'] = 'display_data';\n",
              "        await google.colab.output.renderOutput(dataTable, element);\n",
              "        const docLink = document.createElement('div');\n",
              "        docLink.innerHTML = docLinkHtml;\n",
              "        element.appendChild(docLink);\n",
              "      }\n",
              "    </script>\n",
              "  </div>\n",
              "\n",
              "\n",
              "    </div>\n",
              "  </div>\n"
            ],
            "application/vnd.google.colaboratory.intrinsic+json": {
              "type": "dataframe",
              "summary": "{\n  \"name\": \"df2[df2['tconst'] == 'tt0050083']\",\n  \"rows\": 1,\n  \"fields\": [\n    {\n      \"column\": \"tconst\",\n      \"properties\": {\n        \"dtype\": \"string\",\n        \"num_unique_values\": 1,\n        \"samples\": [\n          \"tt0050083\"\n        ],\n        \"semantic_type\": \"\",\n        \"description\": \"\"\n      }\n    },\n    {\n      \"column\": \"averageRating\",\n      \"properties\": {\n        \"dtype\": \"number\",\n        \"std\": null,\n        \"min\": 9.0,\n        \"max\": 9.0,\n        \"num_unique_values\": 1,\n        \"samples\": [\n          9.0\n        ],\n        \"semantic_type\": \"\",\n        \"description\": \"\"\n      }\n    },\n    {\n      \"column\": \"numVotes\",\n      \"properties\": {\n        \"dtype\": \"number\",\n        \"std\": null,\n        \"min\": 872287,\n        \"max\": 872287,\n        \"num_unique_values\": 1,\n        \"samples\": [\n          872287\n        ],\n        \"semantic_type\": \"\",\n        \"description\": \"\"\n      }\n    }\n  ]\n}"
            }
          },
          "metadata": {},
          "execution_count": 22
        }
      ]
    },
    {
      "cell_type": "code",
      "source": [
        "df1['genres'].unique()"
      ],
      "metadata": {
        "colab": {
          "base_uri": "https://localhost:8080/"
        },
        "id": "EN1nYB1GMojX",
        "outputId": "45ef30f6-da41-44fc-a387-c1b2e58d8246"
      },
      "execution_count": 20,
      "outputs": [
        {
          "output_type": "execute_result",
          "data": {
            "text/plain": [
              "array(['Documentary,Short', 'Animation,Short', 'Animation,Comedy,Romance',\n",
              "       ..., 'Biography,Crime,Fantasy', 'Mystery,Reality-TV,Thriller',\n",
              "       'Musical,Reality-TV,Talk-Show'], dtype=object)"
            ]
          },
          "metadata": {},
          "execution_count": 20
        }
      ]
    },
    {
      "cell_type": "code",
      "source": [],
      "metadata": {
        "id": "uAmb5FTGMtWM"
      },
      "execution_count": null,
      "outputs": []
    },
    {
      "cell_type": "code",
      "source": [
        "\n",
        "# Merge the DataFrames on the common column 'id'\n",
        "merged_df = pd.merge(df1, df2, on='tconst')\n",
        "\n",
        "# Inspect the merged DataFrame\n",
        "print(\"\\nMerged DataFrame:\")\n",
        "print(merged_df.head())\n"
      ],
      "metadata": {
        "colab": {
          "base_uri": "https://localhost:8080/"
        },
        "id": "BDI7tnjSFtg4",
        "outputId": "9139d96d-2eb2-4712-9fb1-5f184b435bae"
      },
      "execution_count": 12,
      "outputs": [
        {
          "output_type": "stream",
          "name": "stdout",
          "text": [
            "\n",
            "Merged DataFrame:\n",
            "      tconst titleType            primaryTitle           originalTitle  \\\n",
            "0  tt0000001     short              Carmencita              Carmencita   \n",
            "1  tt0000002     short  Le clown et ses chiens  Le clown et ses chiens   \n",
            "2  tt0000003     short          Pauvre Pierrot          Pauvre Pierrot   \n",
            "3  tt0000004     short             Un bon bock             Un bon bock   \n",
            "4  tt0000005     short        Blacksmith Scene        Blacksmith Scene   \n",
            "\n",
            "  isAdult startYear endYear runtimeMinutes                    genres  \\\n",
            "0       0      1894      \\N              1         Documentary,Short   \n",
            "1       0      1892      \\N              5           Animation,Short   \n",
            "2       0      1892      \\N              5  Animation,Comedy,Romance   \n",
            "3       0      1892      \\N             12           Animation,Short   \n",
            "4       0      1893      \\N              1              Comedy,Short   \n",
            "\n",
            "   averageRating  numVotes  \n",
            "0            5.7      2058  \n",
            "1            5.6       277  \n",
            "2            6.5      2026  \n",
            "3            5.4       179  \n",
            "4            6.2      2793  \n"
          ]
        }
      ]
    },
    {
      "cell_type": "code",
      "source": [
        "movies_df = merged_df[merged_df['titleType'] == 'movie']"
      ],
      "metadata": {
        "id": "-w2Jxu0pNd7h"
      },
      "execution_count": 17,
      "outputs": []
    },
    {
      "cell_type": "code",
      "source": [
        "# Sort the DataFrame by the 'rating' column in descending order\n",
        "sorted_df = movies_df.sort_values(by=['averageRating', 'numVotes'], ascending=False)\n",
        "\n",
        "# Select the top 250 movies\n",
        "top_250_movies = sorted_df.head(250)\n"
      ],
      "metadata": {
        "id": "Yb6LeKEKF-UL"
      },
      "execution_count": 23,
      "outputs": []
    },
    {
      "cell_type": "code",
      "source": [
        "# Print the top 250 movies\n",
        "print(top_250_movies)\n",
        "## no 5 -> tt0050083"
      ],
      "metadata": {
        "colab": {
          "base_uri": "https://localhost:8080/"
        },
        "id": "Gu4Z61ipGQlO",
        "outputId": "ef97fdd6-a91e-4fc5-991a-58ffd97fd0fd"
      },
      "execution_count": 24,
      "outputs": [
        {
          "output_type": "stream",
          "name": "stdout",
          "text": [
            "             tconst titleType                                primaryTitle  \\\n",
            "1030146  tt28514938     movie                                      Murivu   \n",
            "893034   tt21139706     movie  Prince Oak Oakleyski and News Interviewers   \n",
            "890442   tt21065098     movie     Prince Oak Oakleyski Starring Supremacy   \n",
            "513923   tt10925174     movie                           Petersburg's tram   \n",
            "1418578   tt9052412     movie                                  Magnificus   \n",
            "...             ...       ...                                         ...   \n",
            "1083113  tt32063825     movie                                       Rouge   \n",
            "226538    tt0398308     movie                  Sana, bukas pa ang kahapon   \n",
            "755827   tt15614514     movie                                Amche Samsar   \n",
            "793289   tt16790672     movie                              Freedom Street   \n",
            "801099   tt17077146     movie                            Rajdrohi Rajneta   \n",
            "\n",
            "                                      originalTitle isAdult startYear endYear  \\\n",
            "1030146                                      Murivu       0      2024      \\N   \n",
            "893034   Prince Oak Oakleyski and News Interviewers       0      2022      \\N   \n",
            "890442      Prince Oak Oakleyski Starring Supremacy       0      2023      \\N   \n",
            "513923                            Petersburg's tram       0      2007      \\N   \n",
            "1418578                                  Magnificus       0      2021      \\N   \n",
            "...                                             ...     ...       ...     ...   \n",
            "1083113                                       Rouge       0      2024      \\N   \n",
            "226538                   Sana, bukas pa ang kahapon       0      1983      \\N   \n",
            "755827                                 Amche Samsar       0      2021      \\N   \n",
            "793289                               Freedom Street       0      2022      \\N   \n",
            "801099                             Rajdrohi Rajneta       0      2022      \\N   \n",
            "\n",
            "        runtimeMinutes                         genres  averageRating  numVotes  \n",
            "1030146            102                       Thriller           10.0       365  \n",
            "893034              60    Documentary,News,Reality-TV           10.0        58  \n",
            "890442              60                             \\N           10.0        31  \n",
            "513923              74            Documentary,History           10.0        27  \n",
            "1418578             70  Biography,Documentary,History           10.0        27  \n",
            "...                ...                            ...            ...       ...  \n",
            "1083113             90                    Documentary            9.8         9  \n",
            "226538             106                          Drama            9.8         8  \n",
            "755827              \\N                         Family            9.8         8  \n",
            "793289             114                    Documentary            9.8         8  \n",
            "801099              47                    Documentary            9.8         8  \n",
            "\n",
            "[250 rows x 11 columns]\n"
          ]
        }
      ]
    }
  ]
}